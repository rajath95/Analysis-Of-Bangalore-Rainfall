{
 "cells": [
  {
   "cell_type": "code",
   "execution_count": 136,
   "metadata": {
    "collapsed": true
   },
   "outputs": [],
   "source": [
    "import pandas as pd\n",
    "import numpy as np\n",
    "import matplotlib.pyplot as plt"
   ]
  },
  {
   "cell_type": "code",
   "execution_count": 185,
   "metadata": {},
   "outputs": [
    {
     "data": {
      "text/plain": [
       "112"
      ]
     },
     "execution_count": 185,
     "metadata": {},
     "output_type": "execute_result"
    }
   ],
   "source": [
    "data=pd.read_csv(\"Bengaluru Rainfall Data – OpenCity.csv\")\n",
    "len(data)"
   ]
  },
  {
   "cell_type": "code",
   "execution_count": 186,
   "metadata": {},
   "outputs": [
    {
     "data": {
      "text/plain": [
       "100"
      ]
     },
     "execution_count": 186,
     "metadata": {},
     "output_type": "execute_result"
    }
   ],
   "source": [
    "data.head()\n",
    "\n",
    "data=data.iloc[:-12,:]\n",
    "len(data)"
   ]
  },
  {
   "cell_type": "code",
   "execution_count": 179,
   "metadata": {},
   "outputs": [
    {
     "data": {
      "text/html": [
       "<div>\n",
       "<table border=\"1\" class=\"dataframe\">\n",
       "  <thead>\n",
       "    <tr style=\"text-align: right;\">\n",
       "      <th></th>\n",
       "      <th>Month /Year</th>\n",
       "      <th>Jan</th>\n",
       "      <th>Feb</th>\n",
       "      <th>March</th>\n",
       "      <th>April</th>\n",
       "      <th>May</th>\n",
       "      <th>June</th>\n",
       "      <th>July</th>\n",
       "      <th>Aug</th>\n",
       "      <th>Sept</th>\n",
       "      <th>Oct</th>\n",
       "      <th>Nov</th>\n",
       "      <th>Dec</th>\n",
       "      <th>Unnamed: 13</th>\n",
       "      <th>Average</th>\n",
       "    </tr>\n",
       "  </thead>\n",
       "  <tbody>\n",
       "    <tr>\n",
       "      <th>0</th>\n",
       "      <td>1901.0</td>\n",
       "      <td>0</td>\n",
       "      <td>78.9</td>\n",
       "      <td>0</td>\n",
       "      <td>24.3</td>\n",
       "      <td>146</td>\n",
       "      <td>47.7</td>\n",
       "      <td>71.6</td>\n",
       "      <td>71.6</td>\n",
       "      <td>318.5</td>\n",
       "      <td>120.3</td>\n",
       "      <td>37.3</td>\n",
       "      <td>23.1</td>\n",
       "      <td>NaN</td>\n",
       "      <td>85.390909</td>\n",
       "    </tr>\n",
       "    <tr>\n",
       "      <th>1</th>\n",
       "      <td>1902.0</td>\n",
       "      <td>0.7</td>\n",
       "      <td>0</td>\n",
       "      <td>17</td>\n",
       "      <td>58.1</td>\n",
       "      <td>197.8</td>\n",
       "      <td>62.2</td>\n",
       "      <td>32</td>\n",
       "      <td>79.5</td>\n",
       "      <td>213.6</td>\n",
       "      <td>219.9</td>\n",
       "      <td>11.1</td>\n",
       "      <td>25.4</td>\n",
       "      <td>NaN</td>\n",
       "      <td>83.327273</td>\n",
       "    </tr>\n",
       "    <tr>\n",
       "      <th>2</th>\n",
       "      <td>1903.0</td>\n",
       "      <td>0</td>\n",
       "      <td>0</td>\n",
       "      <td>0</td>\n",
       "      <td>1.5</td>\n",
       "      <td>63.7</td>\n",
       "      <td>109.2</td>\n",
       "      <td>27.9</td>\n",
       "      <td>189.7</td>\n",
       "      <td>475.2</td>\n",
       "      <td>171.1</td>\n",
       "      <td>233.6</td>\n",
       "      <td>29.4</td>\n",
       "      <td>NaN</td>\n",
       "      <td>118.300000</td>\n",
       "    </tr>\n",
       "    <tr>\n",
       "      <th>3</th>\n",
       "      <td>1904.0</td>\n",
       "      <td>0.5</td>\n",
       "      <td>0</td>\n",
       "      <td>0</td>\n",
       "      <td>14.4</td>\n",
       "      <td>241.5</td>\n",
       "      <td>49.5</td>\n",
       "      <td>149.3</td>\n",
       "      <td>53.8</td>\n",
       "      <td>126.4</td>\n",
       "      <td>157.2</td>\n",
       "      <td>0</td>\n",
       "      <td>1.7</td>\n",
       "      <td>NaN</td>\n",
       "      <td>72.163636</td>\n",
       "    </tr>\n",
       "    <tr>\n",
       "      <th>4</th>\n",
       "      <td>1905.0</td>\n",
       "      <td>1.7</td>\n",
       "      <td>0</td>\n",
       "      <td>56.6</td>\n",
       "      <td>32.7</td>\n",
       "      <td>90.6</td>\n",
       "      <td>60.7</td>\n",
       "      <td>58.9</td>\n",
       "      <td>266.4</td>\n",
       "      <td>62.4</td>\n",
       "      <td>227.8</td>\n",
       "      <td>29.2</td>\n",
       "      <td>3</td>\n",
       "      <td>NaN</td>\n",
       "      <td>80.754545</td>\n",
       "    </tr>\n",
       "  </tbody>\n",
       "</table>\n",
       "</div>"
      ],
      "text/plain": [
       "   Month /Year  Jan   Feb March April    May   June   July    Aug   Sept  \\\n",
       "0       1901.0    0  78.9     0  24.3    146   47.7   71.6   71.6  318.5   \n",
       "1       1902.0  0.7     0    17  58.1  197.8   62.2     32   79.5  213.6   \n",
       "2       1903.0    0     0     0   1.5   63.7  109.2   27.9  189.7  475.2   \n",
       "3       1904.0  0.5     0     0  14.4  241.5   49.5  149.3   53.8  126.4   \n",
       "4       1905.0  1.7     0  56.6  32.7   90.6   60.7   58.9  266.4   62.4   \n",
       "\n",
       "     Oct    Nov   Dec  Unnamed: 13     Average  \n",
       "0  120.3   37.3  23.1          NaN   85.390909  \n",
       "1  219.9   11.1  25.4          NaN   83.327273  \n",
       "2  171.1  233.6  29.4          NaN  118.300000  \n",
       "3  157.2      0   1.7          NaN   72.163636  \n",
       "4  227.8   29.2     3          NaN   80.754545  "
      ]
     },
     "execution_count": 179,
     "metadata": {},
     "output_type": "execute_result"
    }
   ],
   "source": [
    "data.head()"
   ]
  },
  {
   "cell_type": "code",
   "execution_count": 145,
   "metadata": {},
   "outputs": [],
   "source": [
    "avg=[]\n",
    "def find_mean(row):\n",
    "    avg.append(row[2:14].astype(float).mean())\n",
    "    \n",
    "    \n",
    "    \n",
    "    \n",
    "    \n",
    "    \n",
    "    "
   ]
  },
  {
   "cell_type": "code",
   "execution_count": 146,
   "metadata": {},
   "outputs": [
    {
     "data": {
      "text/plain": [
       "0     None\n",
       "1     None\n",
       "2     None\n",
       "3     None\n",
       "4     None\n",
       "5     None\n",
       "6     None\n",
       "7     None\n",
       "8     None\n",
       "9     None\n",
       "10    None\n",
       "11    None\n",
       "12    None\n",
       "13    None\n",
       "14    None\n",
       "15    None\n",
       "16    None\n",
       "17    None\n",
       "18    None\n",
       "19    None\n",
       "20    None\n",
       "21    None\n",
       "22    None\n",
       "23    None\n",
       "24    None\n",
       "25    None\n",
       "26    None\n",
       "27    None\n",
       "28    None\n",
       "29    None\n",
       "      ... \n",
       "70    None\n",
       "71    None\n",
       "72    None\n",
       "73    None\n",
       "74    None\n",
       "75    None\n",
       "76    None\n",
       "77    None\n",
       "78    None\n",
       "79    None\n",
       "80    None\n",
       "81    None\n",
       "82    None\n",
       "83    None\n",
       "84    None\n",
       "85    None\n",
       "86    None\n",
       "87    None\n",
       "88    None\n",
       "89    None\n",
       "90    None\n",
       "91    None\n",
       "92    None\n",
       "93    None\n",
       "94    None\n",
       "95    None\n",
       "96    None\n",
       "97    None\n",
       "98    None\n",
       "99    None\n",
       "dtype: object"
      ]
     },
     "execution_count": 146,
     "metadata": {},
     "output_type": "execute_result"
    }
   ],
   "source": [
    "\n",
    "data.apply(find_mean,axis=1)"
   ]
  },
  {
   "cell_type": "code",
   "execution_count": 147,
   "metadata": {},
   "outputs": [],
   "source": [
    "data[\"Average\"]=avg"
   ]
  },
  {
   "cell_type": "code",
   "execution_count": 159,
   "metadata": {},
   "outputs": [],
   "source": [
    "last_10_years=data[-10:]\n",
    "%matplotlib inline"
   ]
  },
  {
   "cell_type": "code",
   "execution_count": 181,
   "metadata": {},
   "outputs": [
    {
     "data": {
      "image/png": "[encoded data removed]",
      "text/plain": [
       "<matplotlib.figure.Figure at 0x7f1eb03c2710>"
      ]
     },
     "metadata": {},
     "output_type": "display_data"
    }
   ],
   "source": [
    "z=pd.DataFrame(last_10_years[\"Average\"])\n",
    "last_10_years['Month /Year']\n",
    "fig,ax=plt.subplots(figsize=(6,6))\n",
    "ax.bar(last_10_years['Month /Year'].values,last_10_years['Average'].values,0.5)\n",
    "plt.xticks(last_10_years['Month /Year'].values)\n",
    "plt.grid('on')\n",
    "plt.legend('rainfall')\n",
    "plt.title('Analysis Of Bangalore Rainfall')\n",
    "plt.xlabel('Years')\n",
    "plt.ylabel('Rainfall measured in mm')\n",
    "plt.show()"
   ]
  },
  {
   "cell_type": "code",
   "execution_count": 151,
   "metadata": {},
   "outputs": [
    {
     "data": {
      "text/plain": [
       "array([[<matplotlib.axes._subplots.AxesSubplot object at 0x7f1eb247de50>]], dtype=object)"
      ]
     },
     "execution_count": 151,
     "metadata": {},
     "output_type": "execute_result"
    },
    {
     "data": {
      "image/png": "[encoded data removed]",
      "text/plain": [
       "<matplotlib.figure.Figure at 0x7f1eb25b6550>"
      ]
     },
     "metadata": {},
     "output_type": "display_data"
    }
   ],
   "source": [
    "%matplotlib inline\n",
    "z.hist()"
   ]
  },
  {
   "cell_type": "code",
   "execution_count": null,
   "metadata": {
    "collapsed": true
   },
   "outputs": [],
   "source": []
  }
 ],
 "metadata": {
  "kernelspec": {
   "display_name": "Python 2",
   "language": "python",
   "name": "python2"
  },
  "language_info": {
   "codemirror_mode": {
    "name": "ipython",
    "version": 2
   },
   "file_extension": ".py",
   "mimetype": "text/x-python",
   "name": "python",
   "nbconvert_exporter": "python",
   "pygments_lexer": "ipython2",
   "version": "2.7.6"
  }
 },
 "nbformat": 4,
 "nbformat_minor": 2
}
